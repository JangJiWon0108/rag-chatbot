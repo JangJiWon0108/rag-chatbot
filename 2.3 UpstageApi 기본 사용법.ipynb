{
 "cells": [
  {
   "cell_type": "code",
   "execution_count": null,
   "metadata": {},
   "outputs": [],
   "source": []
  },
  {
   "cell_type": "code",
   "execution_count": null,
   "metadata": {},
   "outputs": [],
   "source": []
  },
  {
   "cell_type": "code",
   "execution_count": 10,
   "metadata": {},
   "outputs": [
    {
     "name": "stdout",
     "output_type": "stream",
     "text": [
      "Requirement already satisfied: python-dotenv in .\\env\\lib\\site-packages (1.0.1)\n",
      "Collecting langchain-upstage\n",
      "  Downloading langchain_upstage-0.1.7-py3-none-any.whl.metadata (3.3 kB)\n",
      "Requirement already satisfied: langchain-core<0.3,>=0.2.2 in .\\env\\lib\\site-packages (from langchain-upstage) (0.2.10)\n",
      "Requirement already satisfied: langchain-openai<0.2.0,>=0.1.3 in .\\env\\lib\\site-packages (from langchain-upstage) (0.1.13)\n",
      "Collecting pypdf<5.0.0,>=4.2.0 (from langchain-upstage)\n",
      "  Downloading pypdf-4.2.0-py3-none-any.whl.metadata (7.4 kB)\n",
      "Requirement already satisfied: requests<3.0.0,>=2.31.0 in .\\env\\lib\\site-packages (from langchain-upstage) (2.32.3)\n",
      "Requirement already satisfied: PyYAML>=5.3 in .\\env\\lib\\site-packages (from langchain-core<0.3,>=0.2.2->langchain-upstage) (6.0.1)\n",
      "Requirement already satisfied: jsonpatch<2.0,>=1.33 in .\\env\\lib\\site-packages (from langchain-core<0.3,>=0.2.2->langchain-upstage) (1.33)\n",
      "Requirement already satisfied: langsmith<0.2.0,>=0.1.75 in .\\env\\lib\\site-packages (from langchain-core<0.3,>=0.2.2->langchain-upstage) (0.1.82)\n",
      "Requirement already satisfied: packaging<25,>=23.2 in .\\env\\lib\\site-packages (from langchain-core<0.3,>=0.2.2->langchain-upstage) (24.1)\n",
      "Requirement already satisfied: pydantic<3,>=1 in .\\env\\lib\\site-packages (from langchain-core<0.3,>=0.2.2->langchain-upstage) (2.7.4)\n",
      "Requirement already satisfied: tenacity!=8.4.0,<9.0.0,>=8.1.0 in .\\env\\lib\\site-packages (from langchain-core<0.3,>=0.2.2->langchain-upstage) (8.4.2)\n",
      "Requirement already satisfied: openai<2.0.0,>=1.32.0 in .\\env\\lib\\site-packages (from langchain-openai<0.2.0,>=0.1.3->langchain-upstage) (1.35.7)\n",
      "Requirement already satisfied: tiktoken<1,>=0.7 in .\\env\\lib\\site-packages (from langchain-openai<0.2.0,>=0.1.3->langchain-upstage) (0.7.0)\n",
      "Requirement already satisfied: charset-normalizer<4,>=2 in .\\env\\lib\\site-packages (from requests<3.0.0,>=2.31.0->langchain-upstage) (3.3.2)\n",
      "Requirement already satisfied: idna<4,>=2.5 in .\\env\\lib\\site-packages (from requests<3.0.0,>=2.31.0->langchain-upstage) (3.7)\n",
      "Requirement already satisfied: urllib3<3,>=1.21.1 in .\\env\\lib\\site-packages (from requests<3.0.0,>=2.31.0->langchain-upstage) (2.2.2)\n",
      "Requirement already satisfied: certifi>=2017.4.17 in .\\env\\lib\\site-packages (from requests<3.0.0,>=2.31.0->langchain-upstage) (2024.6.2)\n",
      "Requirement already satisfied: jsonpointer>=1.9 in .\\env\\lib\\site-packages (from jsonpatch<2.0,>=1.33->langchain-core<0.3,>=0.2.2->langchain-upstage) (3.0.0)\n",
      "Requirement already satisfied: orjson<4.0.0,>=3.9.14 in .\\env\\lib\\site-packages (from langsmith<0.2.0,>=0.1.75->langchain-core<0.3,>=0.2.2->langchain-upstage) (3.10.5)\n",
      "Requirement already satisfied: anyio<5,>=3.5.0 in .\\env\\lib\\site-packages (from openai<2.0.0,>=1.32.0->langchain-openai<0.2.0,>=0.1.3->langchain-upstage) (4.4.0)\n",
      "Requirement already satisfied: distro<2,>=1.7.0 in .\\env\\lib\\site-packages (from openai<2.0.0,>=1.32.0->langchain-openai<0.2.0,>=0.1.3->langchain-upstage) (1.9.0)\n",
      "Requirement already satisfied: httpx<1,>=0.23.0 in .\\env\\lib\\site-packages (from openai<2.0.0,>=1.32.0->langchain-openai<0.2.0,>=0.1.3->langchain-upstage) (0.27.0)\n",
      "Requirement already satisfied: sniffio in .\\env\\lib\\site-packages (from openai<2.0.0,>=1.32.0->langchain-openai<0.2.0,>=0.1.3->langchain-upstage) (1.3.1)\n",
      "Requirement already satisfied: tqdm>4 in .\\env\\lib\\site-packages (from openai<2.0.0,>=1.32.0->langchain-openai<0.2.0,>=0.1.3->langchain-upstage) (4.66.4)\n",
      "Requirement already satisfied: typing-extensions<5,>=4.7 in .\\env\\lib\\site-packages (from openai<2.0.0,>=1.32.0->langchain-openai<0.2.0,>=0.1.3->langchain-upstage) (4.12.2)\n",
      "Requirement already satisfied: annotated-types>=0.4.0 in .\\env\\lib\\site-packages (from pydantic<3,>=1->langchain-core<0.3,>=0.2.2->langchain-upstage) (0.7.0)\n",
      "Requirement already satisfied: pydantic-core==2.18.4 in .\\env\\lib\\site-packages (from pydantic<3,>=1->langchain-core<0.3,>=0.2.2->langchain-upstage) (2.18.4)\n",
      "Requirement already satisfied: regex>=2022.1.18 in .\\env\\lib\\site-packages (from tiktoken<1,>=0.7->langchain-openai<0.2.0,>=0.1.3->langchain-upstage) (2024.5.15)\n",
      "Requirement already satisfied: httpcore==1.* in .\\env\\lib\\site-packages (from httpx<1,>=0.23.0->openai<2.0.0,>=1.32.0->langchain-openai<0.2.0,>=0.1.3->langchain-upstage) (1.0.5)\n",
      "Requirement already satisfied: h11<0.15,>=0.13 in .\\env\\lib\\site-packages (from httpcore==1.*->httpx<1,>=0.23.0->openai<2.0.0,>=1.32.0->langchain-openai<0.2.0,>=0.1.3->langchain-upstage) (0.14.0)\n",
      "Requirement already satisfied: colorama in .\\env\\lib\\site-packages (from tqdm>4->openai<2.0.0,>=1.32.0->langchain-openai<0.2.0,>=0.1.3->langchain-upstage) (0.4.6)\n",
      "Downloading langchain_upstage-0.1.7-py3-none-any.whl (16 kB)\n",
      "Downloading pypdf-4.2.0-py3-none-any.whl (290 kB)\n",
      "   ---------------------------------------- 0.0/290.4 kB ? eta -:--:--\n",
      "   --------------------------------- ------ 245.8/290.4 kB 5.0 MB/s eta 0:00:01\n",
      "   ---------------------------------------- 290.4/290.4 kB 4.5 MB/s eta 0:00:00\n",
      "Installing collected packages: pypdf, langchain-upstage\n",
      "Successfully installed langchain-upstage-0.1.7 pypdf-4.2.0\n"
     ]
    }
   ],
   "source": [
    "# 패키지 설치\n",
    "\n",
    "!pip install python-dotenv langchain-upstage"
   ]
  },
  {
   "cell_type": "code",
   "execution_count": 11,
   "metadata": {},
   "outputs": [
    {
     "data": {
      "text/plain": [
       "True"
      ]
     },
     "execution_count": 11,
     "metadata": {},
     "output_type": "execute_result"
    }
   ],
   "source": [
    "\n",
    "from dotenv import load_dotenv\n",
    "\n",
    "load_dotenv(dotenv_path=\".env\")"
   ]
  },
  {
   "cell_type": "code",
   "execution_count": 14,
   "metadata": {},
   "outputs": [
    {
     "data": {
      "text/plain": [
       "ChatUpstage(client=<openai.resources.chat.completions.Completions object at 0x00000275A38C6E90>, async_client=<openai.resources.chat.completions.AsyncCompletions object at 0x00000275A38DA290>, upstage_api_key=SecretStr('**********'))"
      ]
     },
     "execution_count": 14,
     "metadata": {},
     "output_type": "execute_result"
    }
   ],
   "source": [
    "# openai 키가 아니라, upstage 키를 사용함\n",
    "\n",
    "# 라이브러리 로딩\n",
    "# 이 부분에서 어떤 것을 가져와도 가능함\n",
    "# 즉, 연동이 쉬움 (openai, upstage 둘다 가능함)\n",
    "from langchain_upstage import ChatUpstage\n",
    "\n",
    "# upstage의 api를 이용해 llm 모델 불러옴\n",
    "llm=ChatUpstage(api_key=\"up_D8sLGDa0x7FknzDfrMuiVMxEObmEP\")\n",
    "\n",
    "llm"
   ]
  },
  {
   "cell_type": "code",
   "execution_count": 17,
   "metadata": {},
   "outputs": [],
   "source": [
    "# message=llm.invoke(\"인프런에 어떤 강의가 있나요?\")\n"
   ]
  },
  {
   "cell_type": "code",
   "execution_count": 16,
   "metadata": {},
   "outputs": [
    {
     "data": {
      "text/plain": [
       "'인프런은 다양한 분야의 강의를 제공하는 온라인 교육 플랫폼입니다. 몇 가지 인기 있는 강의 카테고리는 다음과 같습니다:\\n\\n1. 프로그래밍 언어: 파이썬, 자바, 자바스크립트, C++, C# 등 다양한 프로그래밍 언어에 대한 강의를 제공합니다.\\n2. 웹 개발: 프론트엔드 개발, 백엔드 개발, 서버 관리, 웹 프레임워크 등에 대한 강의를 제공합니다.\\n3. 데이터 과학: 머신러닝, 딥러닝, 데이터 분석, 데이터 시각화 등에 대한 강의를 제공합니다.\\n4. 클라우드 컴퓨팅: AWS, Azure, GCP 등의 클라우드 플랫폼에 대한 강의를 제공합니다.\\n5. 모바일 개발: 안드로이드, iOS 앱 개발에 대한 강의를 제공합니다.\\n6. 비즈니스 및 프로젝트 관리: 프로젝트 관리, 비즈니스 커뮤니케이션, 리더십 등에 대한 강의를 제공합니다.\\n\\n인프런은 계속해서 새로운 강의를 추가하고 있으며, 다양한 분야의 강의를 제공하고 있습니다. 인프런 웹사이트나 앱을 방문하여 원하는 강의 카테고리를 검색해보시면 자세한 내용을 확인하실 수 있습니다.'"
      ]
     },
     "execution_count": 16,
     "metadata": {},
     "output_type": "execute_result"
    }
   ],
   "source": [
    "message.content"
   ]
  },
  {
   "cell_type": "code",
   "execution_count": null,
   "metadata": {},
   "outputs": [],
   "source": []
  },
  {
   "cell_type": "code",
   "execution_count": null,
   "metadata": {},
   "outputs": [],
   "source": []
  }
 ],
 "metadata": {
  "kernelspec": {
   "display_name": "env",
   "language": "python",
   "name": "python3"
  },
  "language_info": {
   "codemirror_mode": {
    "name": "ipython",
    "version": 3
   },
   "file_extension": ".py",
   "mimetype": "text/x-python",
   "name": "python",
   "nbconvert_exporter": "python",
   "pygments_lexer": "ipython3",
   "version": "3.11.0"
  }
 },
 "nbformat": 4,
 "nbformat_minor": 2
}
